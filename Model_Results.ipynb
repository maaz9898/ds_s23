2023-05-07 03:02:35,695 INFO     pid:25092 __main__:006:run Running: prepcache.LunaPrepCacheApp(['--num-workers=4']).main()
2023-05-07 03:02:35,696 INFO     pid:25092 prepcache:044:main Starting LunaPrepCacheApp, Namespace(batch_size=1024, num_workers=4)
2023-05-07 03:03:36,021 INFO     pid:25092 dsets:182:__init__ <dsets.LunaDataset object at 0x000001FC449EA700>: 13564 training samples
2023-05-07 03:03:36,023 WARNING  pid:25092 util.util:219:enumerateWithEstimate Stuffing cache ----/14, starting
2023-05-07 03:03:45,546 INFO     pid:25092 util.util:236:enumerateWithEstimate Stuffing cache    8/14, done at 2023-05-07 03:03:47, 0:00:03
2023-05-07 03:03:46,626 WARNING  pid:25092 util.util:249:enumerateWithEstimate Stuffing cache ----/14, done at 2023-05-07 03:03:46
2023-05-07 03:03:46,628 INFO     pid:25092 __main__:013:run Finished: prepcache.LunaPrepCacheApp.['--num-workers=4']).main()
2023-05-07 03:03:46,629 INFO     pid:25092 __main__:006:run Running: training.LunaTrainingApp(['--num-workers=4', '--epochs=20']).main()
2023-05-07 03:03:46,637 INFO     pid:25092 training:080:initModel Using CUDA; 1 devices.
2023-05-07 03:03:46,645 INFO     pid:25092 training:138:main Starting LunaTrainingApp, Namespace(num_workers=4, batch_size=32, epochs=20, tb_prefix='p2ch11', comment='dwlpt')
2023-05-07 03:03:46,656 INFO     pid:25092 dsets:182:__init__ <dsets.LunaDataset object at 0x000001FC4697EB80>: 12207 training samples
2023-05-07 03:03:46,660 INFO     pid:25092 dsets:182:__init__ <dsets.LunaDataset object at 0x000001FC46979D90>: 1357 validation samples
2023-05-07 03:03:46,661 INFO     pid:25092 training:144:main Epoch 1 of 20, 382/43 batches of size 32*1
2023-05-07 03:03:46,664 WARNING  pid:25092 util.util:219:enumerateWithEstimate E1 Training ----/382, starting
2023-05-07 03:03:54,388 INFO     pid:25092 util.util:236:enumerateWithEstimate E1 Training   16/382, done at 2023-05-07 03:04:07, 0:00:13
2023-05-07 03:03:55,538 INFO     pid:25092 util.util:236:enumerateWithEstimate E1 Training   64/382, done at 2023-05-07 03:04:03, 0:00:10
2023-05-07 03:04:00,140 INFO     pid:25092 util.util:236:enumerateWithEstimate E1 Training  256/382, done at 2023-05-07 03:04:03, 0:00:09
2023-05-07 03:04:04,124 WARNING  pid:25092 util.util:249:enumerateWithEstimate E1 Training ----/382, done at 2023-05-07 03:04:04
2023-05-07 03:04:04,129 INFO     pid:25092 training:253:logMetrics E1 LunaTrainingApp
2023-05-07 03:04:04,131 INFO     pid:25092 training:283:logMetrics E1 trn      0.1603 loss,  99.7% correct, 
2023-05-07 03:04:04,132 INFO     pid:25092 training:292:logMetrics E1 trn_neg  0.0043 loss,  99.9% correct (12169 of 12184)
2023-05-07 03:04:04,133 INFO     pid:25092 training:303:logMetrics E1 trn_pos  82.7587 loss,   0.0% correct (0 of 23)
2023-05-07 03:04:04,138 WARNING  pid:25092 util.util:219:enumerateWithEstimate E1 Validation  ----/43, starting
2023-05-07 03:04:12,397 INFO     pid:25092 util.util:236:enumerateWithEstimate E1 Validation     8/43, done at 2023-05-07 03:04:12, 0:00:00
2023-05-07 03:04:12,479 INFO     pid:25092 util.util:236:enumerateWithEstimate E1 Validation    16/43, done at 2023-05-07 03:04:12, 0:00:00
2023-05-07 03:04:12,640 INFO     pid:25092 util.util:236:enumerateWithEstimate E1 Validation    32/43, done at 2023-05-07 03:04:12, 0:00:00
2023-05-07 03:04:13,294 WARNING  pid:25092 util.util:249:enumerateWithEstimate E1 Validation  ----/43, done at 2023-05-07 03:04:13
2023-05-07 03:04:13,295 INFO     pid:25092 training:253:logMetrics E1 LunaTrainingApp
2023-05-07 03:04:13,296 INFO     pid:25092 training:283:logMetrics E1 val      0.0228 loss,  99.8% correct, 
2023-05-07 03:04:13,297 INFO     pid:25092 training:292:logMetrics E1 val_neg  0.0000 loss, 100.0% correct (1354 of 1354)
2023-05-07 03:04:13,297 INFO     pid:25092 training:303:logMetrics E1 val_pos  10.3054 loss,   0.0% correct (0 of 3)
2023-05-07 03:04:13,301 INFO     pid:25092 training:144:main Epoch 2 of 20, 382/43 batches of size 32*1
2023-05-07 03:04:13,302 WARNING  pid:25092 util.util:219:enumerateWithEstimate E2 Training ----/382, starting
2023-05-07 03:04:22,025 INFO     pid:25092 util.util:236:enumerateWithEstimate E2 Training   16/382, done at 2023-05-07 03:04:37, 0:00:16
2023-05-07 03:04:23,343 INFO     pid:25092 util.util:236:enumerateWithEstimate E2 Training   64/382, done at 2023-05-07 03:04:33, 0:00:11
2023-05-07 03:04:28,527 INFO     pid:25092 util.util:236:enumerateWithEstimate E2 Training  256/382, done at 2023-05-07 03:04:32, 0:00:10
2023-05-07 03:04:32,433 WARNING  pid:25092 util.util:249:enumerateWithEstimate E2 Training ----/382, done at 2023-05-07 03:04:32
2023-05-07 03:04:32,434 INFO     pid:25092 training:253:logMetrics E2 LunaTrainingApp
2023-05-07 03:04:32,436 INFO     pid:25092 training:283:logMetrics E2 trn      0.0153 loss,  99.8% correct, 
2023-05-07 03:04:32,436 INFO     pid:25092 training:292:logMetrics E2 trn_neg  0.0018 loss, 100.0% correct (12184 of 12184)
2023-05-07 03:04:32,437 INFO     pid:25092 training:303:logMetrics E2 trn_pos  7.1727 loss,   0.0% correct (0 of 23)
2023-05-07 03:04:32,441 WARNING  pid:25092 util.util:219:enumerateWithEstimate E2 Validation  ----/43, starting
2023-05-07 03:04:40,433 INFO     pid:25092 util.util:236:enumerateWithEstimate E2 Validation     8/43, done at 2023-05-07 03:04:40, 0:00:00
2023-05-07 03:04:40,522 INFO     pid:25092 util.util:236:enumerateWithEstimate E2 Validation    16/43, done at 2023-05-07 03:04:40, 0:00:00
2023-05-07 03:04:40,741 INFO     pid:25092 util.util:236:enumerateWithEstimate E2 Validation    32/43, done at 2023-05-07 03:04:40, 0:00:00
2023-05-07 03:04:41,296 WARNING  pid:25092 util.util:249:enumerateWithEstimate E2 Validation  ----/43, done at 2023-05-07 03:04:41
2023-05-07 03:04:41,297 INFO     pid:25092 training:253:logMetrics E2 LunaTrainingApp
2023-05-07 03:04:41,298 INFO     pid:25092 training:283:logMetrics E2 val      0.0161 loss,  99.8% correct, 
2023-05-07 03:04:41,299 INFO     pid:25092 training:292:logMetrics E2 val_neg  0.0011 loss, 100.0% correct (1354 of 1354)
2023-05-07 03:04:41,300 INFO     pid:25092 training:303:logMetrics E2 val_pos  6.7778 loss,   0.0% correct (0 of 3)
2023-05-07 03:04:41,302 INFO     pid:25092 training:144:main Epoch 3 of 20, 382/43 batches of size 32*1
2023-05-07 03:04:41,304 WARNING  pid:25092 util.util:219:enumerateWithEstimate E3 Training ----/382, starting
2023-05-07 03:04:49,820 INFO     pid:25092 util.util:236:enumerateWithEstimate E3 Training   16/382, done at 2023-05-07 03:05:05, 0:00:15
2023-05-07 03:04:51,110 INFO     pid:25092 util.util:236:enumerateWithEstimate E3 Training   64/382, done at 2023-05-07 03:05:00, 0:00:11
2023-05-07 03:04:56,266 INFO     pid:25092 util.util:236:enumerateWithEstimate E3 Training  256/382, done at 2023-05-07 03:04:59, 0:00:10
2023-05-07 03:05:00,170 WARNING  pid:25092 util.util:249:enumerateWithEstimate E3 Training ----/382, done at 2023-05-07 03:05:00
2023-05-07 03:05:00,171 INFO     pid:25092 training:253:logMetrics E3 LunaTrainingApp
2023-05-07 03:05:00,173 INFO     pid:25092 training:283:logMetrics E3 trn      0.0145 loss,  99.8% correct, 
2023-05-07 03:05:00,173 INFO     pid:25092 training:292:logMetrics E3 trn_neg  0.0020 loss, 100.0% correct (12184 of 12184)
2023-05-07 03:05:00,174 INFO     pid:25092 training:303:logMetrics E3 trn_pos  6.6393 loss,   0.0% correct (0 of 23)
2023-05-07 03:05:00,177 WARNING  pid:25092 util.util:219:enumerateWithEstimate E3 Validation  ----/43, starting
2023-05-07 03:05:08,398 INFO     pid:25092 util.util:236:enumerateWithEstimate E3 Validation     8/43, done at 2023-05-07 03:05:08, 0:00:00
2023-05-07 03:05:08,478 INFO     pid:25092 util.util:236:enumerateWithEstimate E3 Validation    16/43, done at 2023-05-07 03:05:08, 0:00:00
2023-05-07 03:05:08,623 INFO     pid:25092 util.util:236:enumerateWithEstimate E3 Validation    32/43, done at 2023-05-07 03:05:08, 0:00:00
2023-05-07 03:05:09,274 WARNING  pid:25092 util.util:249:enumerateWithEstimate E3 Validation  ----/43, done at 2023-05-07 03:05:09
2023-05-07 03:05:09,276 INFO     pid:25092 training:253:logMetrics E3 LunaTrainingApp
2023-05-07 03:05:09,277 INFO     pid:25092 training:283:logMetrics E3 val      0.0158 loss,  99.8% correct, 
2023-05-07 03:05:09,277 INFO     pid:25092 training:292:logMetrics E3 val_neg  0.0016 loss, 100.0% correct (1354 of 1354)
2023-05-07 03:05:09,278 INFO     pid:25092 training:303:logMetrics E3 val_pos  6.4607 loss,   0.0% correct (0 of 3)
2023-05-07 03:05:09,281 INFO     pid:25092 training:144:main Epoch 4 of 20, 382/43 batches of size 32*1
2023-05-07 03:05:09,281 WARNING  pid:25092 util.util:219:enumerateWithEstimate E4 Training ----/382, starting
2023-05-07 03:05:17,346 INFO     pid:25092 util.util:236:enumerateWithEstimate E4 Training   16/382, done at 2023-05-07 03:05:33, 0:00:16
2023-05-07 03:05:18,634 INFO     pid:25092 util.util:236:enumerateWithEstimate E4 Training   64/382, done at 2023-05-07 03:05:28, 0:00:11
2023-05-07 03:05:23,817 INFO     pid:25092 util.util:236:enumerateWithEstimate E4 Training  256/382, done at 2023-05-07 03:05:27, 0:00:10
2023-05-07 03:05:27,729 WARNING  pid:25092 util.util:249:enumerateWithEstimate E4 Training ----/382, done at 2023-05-07 03:05:27
2023-05-07 03:05:27,731 INFO     pid:25092 training:253:logMetrics E4 LunaTrainingApp
2023-05-07 03:05:27,732 INFO     pid:25092 training:283:logMetrics E4 trn      0.0141 loss,  99.8% correct, 
2023-05-07 03:05:27,733 INFO     pid:25092 training:292:logMetrics E4 trn_neg  0.0020 loss, 100.0% correct (12184 of 12184)
2023-05-07 03:05:27,733 INFO     pid:25092 training:303:logMetrics E4 trn_pos  6.4576 loss,   0.0% correct (0 of 23)
2023-05-07 03:05:27,737 WARNING  pid:25092 util.util:219:enumerateWithEstimate E4 Validation  ----/43, starting
2023-05-07 03:05:35,662 INFO     pid:25092 util.util:236:enumerateWithEstimate E4 Validation     8/43, done at 2023-05-07 03:05:35, 0:00:00
2023-05-07 03:05:35,816 INFO     pid:25092 util.util:236:enumerateWithEstimate E4 Validation    16/43, done at 2023-05-07 03:05:36, 0:00:00
2023-05-07 03:05:36,026 INFO     pid:25092 util.util:236:enumerateWithEstimate E4 Validation    32/43, done at 2023-05-07 03:05:36, 0:00:00
2023-05-07 03:05:36,681 WARNING  pid:25092 util.util:249:enumerateWithEstimate E4 Validation  ----/43, done at 2023-05-07 03:05:36
2023-05-07 03:05:36,682 INFO     pid:25092 training:253:logMetrics E4 LunaTrainingApp
2023-05-07 03:05:36,683 INFO     pid:25092 training:283:logMetrics E4 val      0.0157 loss,  99.8% correct, 
2023-05-07 03:05:36,684 INFO     pid:25092 training:292:logMetrics E4 val_neg  0.0020 loss, 100.0% correct (1354 of 1354)
2023-05-07 03:05:36,684 INFO     pid:25092 training:303:logMetrics E4 val_pos  6.2345 loss,   0.0% correct (0 of 3)
2023-05-07 03:05:36,688 INFO     pid:25092 training:144:main Epoch 5 of 20, 382/43 batches of size 32*1
2023-05-07 03:05:36,689 WARNING  pid:25092 util.util:219:enumerateWithEstimate E5 Training ----/382, starting
2023-05-07 03:05:45,189 INFO     pid:25092 util.util:236:enumerateWithEstimate E5 Training   16/382, done at 2023-05-07 03:05:59, 0:00:14
2023-05-07 03:05:46,482 INFO     pid:25092 util.util:236:enumerateWithEstimate E5 Training   64/382, done at 2023-05-07 03:05:55, 0:00:11
2023-05-07 03:05:51,639 INFO     pid:25092 util.util:236:enumerateWithEstimate E5 Training  256/382, done at 2023-05-07 03:05:55, 0:00:10
2023-05-07 03:05:55,513 WARNING  pid:25092 util.util:249:enumerateWithEstimate E5 Training ----/382, done at 2023-05-07 03:05:55
2023-05-07 03:05:55,515 INFO     pid:25092 training:253:logMetrics E5 LunaTrainingApp
2023-05-07 03:05:55,516 INFO     pid:25092 training:283:logMetrics E5 trn      0.0140 loss,  99.8% correct, 
2023-05-07 03:05:55,516 INFO     pid:25092 training:292:logMetrics E5 trn_neg  0.0020 loss, 100.0% correct (12184 of 12184)
2023-05-07 03:05:55,517 INFO     pid:25092 training:303:logMetrics E5 trn_pos  6.3903 loss,   0.0% correct (0 of 23)
2023-05-07 03:05:55,521 WARNING  pid:25092 util.util:219:enumerateWithEstimate E5 Validation  ----/43, starting
2023-05-07 03:06:03,301 INFO     pid:25092 util.util:236:enumerateWithEstimate E5 Validation     8/43, done at 2023-05-07 03:06:03, 0:00:00
2023-05-07 03:06:03,369 INFO     pid:25092 util.util:236:enumerateWithEstimate E5 Validation    16/43, done at 2023-05-07 03:06:03, 0:00:00
2023-05-07 03:06:03,603 INFO     pid:25092 util.util:236:enumerateWithEstimate E5 Validation    32/43, done at 2023-05-07 03:06:03, 0:00:00
2023-05-07 03:06:04,268 WARNING  pid:25092 util.util:249:enumerateWithEstimate E5 Validation  ----/43, done at 2023-05-07 03:06:04
2023-05-07 03:06:04,269 INFO     pid:25092 training:253:logMetrics E5 LunaTrainingApp
2023-05-07 03:06:04,271 INFO     pid:25092 training:283:logMetrics E5 val      0.0157 loss,  99.8% correct, 
2023-05-07 03:06:04,271 INFO     pid:25092 training:292:logMetrics E5 val_neg  0.0023 loss, 100.0% correct (1354 of 1354)
2023-05-07 03:06:04,272 INFO     pid:25092 training:303:logMetrics E5 val_pos  6.0858 loss,   0.0% correct (0 of 3)
2023-05-07 03:06:04,276 INFO     pid:25092 training:144:main Epoch 6 of 20, 382/43 batches of size 32*1
2023-05-07 03:06:04,277 WARNING  pid:25092 util.util:219:enumerateWithEstimate E6 Training ----/382, starting
2023-05-07 03:06:12,584 INFO     pid:25092 util.util:236:enumerateWithEstimate E6 Training   16/382, done at 2023-05-07 03:06:27, 0:00:15
2023-05-07 03:06:13,887 INFO     pid:25092 util.util:236:enumerateWithEstimate E6 Training   64/382, done at 2023-05-07 03:06:23, 0:00:11
2023-05-07 03:06:19,023 INFO     pid:25092 util.util:236:enumerateWithEstimate E6 Training  256/382, done at 2023-05-07 03:06:22, 0:00:10
2023-05-07 03:06:22,896 WARNING  pid:25092 util.util:249:enumerateWithEstimate E6 Training ----/382, done at 2023-05-07 03:06:22
2023-05-07 03:06:22,897 INFO     pid:25092 training:253:logMetrics E6 LunaTrainingApp
2023-05-07 03:06:22,899 INFO     pid:25092 training:283:logMetrics E6 trn      0.0140 loss,  99.8% correct, 
2023-05-07 03:06:22,899 INFO     pid:25092 training:292:logMetrics E6 trn_neg  0.0020 loss, 100.0% correct (12184 of 12184)
2023-05-07 03:06:22,899 INFO     pid:25092 training:303:logMetrics E6 trn_pos  6.3790 loss,   0.0% correct (0 of 23)
2023-05-07 03:06:22,905 WARNING  pid:25092 util.util:219:enumerateWithEstimate E6 Validation  ----/43, starting
2023-05-07 03:06:30,932 INFO     pid:25092 util.util:236:enumerateWithEstimate E6 Validation     8/43, done at 2023-05-07 03:06:31, 0:00:00
2023-05-07 03:06:31,021 INFO     pid:25092 util.util:236:enumerateWithEstimate E6 Validation    16/43, done at 2023-05-07 03:06:31, 0:00:00
2023-05-07 03:06:31,211 INFO     pid:25092 util.util:236:enumerateWithEstimate E6 Validation    32/43, done at 2023-05-07 03:06:31, 0:00:00
2023-05-07 03:06:31,853 WARNING  pid:25092 util.util:249:enumerateWithEstimate E6 Validation  ----/43, done at 2023-05-07 03:06:31
2023-05-07 03:06:31,854 INFO     pid:25092 training:253:logMetrics E6 LunaTrainingApp
2023-05-07 03:06:31,855 INFO     pid:25092 training:283:logMetrics E6 val      0.0157 loss,  99.8% correct, 
2023-05-07 03:06:31,856 INFO     pid:25092 training:292:logMetrics E6 val_neg  0.0023 loss, 100.0% correct (1354 of 1354)
2023-05-07 03:06:31,856 INFO     pid:25092 training:303:logMetrics E6 val_pos  6.0863 loss,   0.0% correct (0 of 3)
2023-05-07 03:06:31,858 INFO     pid:25092 training:144:main Epoch 7 of 20, 382/43 batches of size 32*1
2023-05-07 03:06:31,859 WARNING  pid:25092 util.util:219:enumerateWithEstimate E7 Training ----/382, starting
2023-05-07 03:06:40,381 INFO     pid:25092 util.util:236:enumerateWithEstimate E7 Training   16/382, done at 2023-05-07 03:06:55, 0:00:15
2023-05-07 03:06:41,658 INFO     pid:25092 util.util:236:enumerateWithEstimate E7 Training   64/382, done at 2023-05-07 03:06:51, 0:00:11
2023-05-07 03:06:46,812 INFO     pid:25092 util.util:236:enumerateWithEstimate E7 Training  256/382, done at 2023-05-07 03:06:50, 0:00:10
2023-05-07 03:06:50,875 WARNING  pid:25092 util.util:249:enumerateWithEstimate E7 Training ----/382, done at 2023-05-07 03:06:50
2023-05-07 03:06:50,876 INFO     pid:25092 training:253:logMetrics E7 LunaTrainingApp
2023-05-07 03:06:50,877 INFO     pid:25092 training:283:logMetrics E7 trn      0.0140 loss,  99.8% correct, 
2023-05-07 03:06:50,878 INFO     pid:25092 training:292:logMetrics E7 trn_neg  0.0020 loss, 100.0% correct (12184 of 12184)
2023-05-07 03:06:50,879 INFO     pid:25092 training:303:logMetrics E7 trn_pos  6.3702 loss,   0.0% correct (0 of 23)
2023-05-07 03:06:50,883 WARNING  pid:25092 util.util:219:enumerateWithEstimate E7 Validation  ----/43, starting
2023-05-07 03:06:58,778 INFO     pid:25092 util.util:236:enumerateWithEstimate E7 Validation     8/43, done at 2023-05-07 03:06:59, 0:00:00
2023-05-07 03:06:58,875 INFO     pid:25092 util.util:236:enumerateWithEstimate E7 Validation    16/43, done at 2023-05-07 03:06:59, 0:00:00
2023-05-07 03:06:59,005 INFO     pid:25092 util.util:236:enumerateWithEstimate E7 Validation    32/43, done at 2023-05-07 03:06:59, 0:00:00
2023-05-07 03:06:59,684 WARNING  pid:25092 util.util:249:enumerateWithEstimate E7 Validation  ----/43, done at 2023-05-07 03:06:59
2023-05-07 03:06:59,685 INFO     pid:25092 training:253:logMetrics E7 LunaTrainingApp
2023-05-07 03:06:59,686 INFO     pid:25092 training:283:logMetrics E7 val      0.0157 loss,  99.8% correct, 
2023-05-07 03:06:59,687 INFO     pid:25092 training:292:logMetrics E7 val_neg  0.0024 loss, 100.0% correct (1354 of 1354)
2023-05-07 03:06:59,688 INFO     pid:25092 training:303:logMetrics E7 val_pos  6.0185 loss,   0.0% correct (0 of 3)
2023-05-07 03:06:59,691 INFO     pid:25092 training:144:main Epoch 8 of 20, 382/43 batches of size 32*1
2023-05-07 03:06:59,692 WARNING  pid:25092 util.util:219:enumerateWithEstimate E8 Training ----/382, starting
2023-05-07 03:07:07,982 INFO     pid:25092 util.util:236:enumerateWithEstimate E8 Training   16/382, done at 2023-05-07 03:07:20, 0:00:12
2023-05-07 03:07:09,263 INFO     pid:25092 util.util:236:enumerateWithEstimate E8 Training   64/382, done at 2023-05-07 03:07:18, 0:00:10
2023-05-07 03:07:14,527 INFO     pid:25092 util.util:236:enumerateWithEstimate E8 Training  256/382, done at 2023-05-07 03:07:17, 0:00:10
2023-05-07 03:07:18,500 WARNING  pid:25092 util.util:249:enumerateWithEstimate E8 Training ----/382, done at 2023-05-07 03:07:18
2023-05-07 03:07:18,501 INFO     pid:25092 training:253:logMetrics E8 LunaTrainingApp
2023-05-07 03:07:18,503 INFO     pid:25092 training:283:logMetrics E8 trn      0.0139 loss,  99.8% correct, 
2023-05-07 03:07:18,503 INFO     pid:25092 training:292:logMetrics E8 trn_neg  0.0020 loss, 100.0% correct (12184 of 12184)
2023-05-07 03:07:18,504 INFO     pid:25092 training:303:logMetrics E8 trn_pos  6.3587 loss,   0.0% correct (0 of 23)
2023-05-07 03:07:18,509 WARNING  pid:25092 util.util:219:enumerateWithEstimate E8 Validation  ----/43, starting
2023-05-07 03:07:26,550 INFO     pid:25092 util.util:236:enumerateWithEstimate E8 Validation     8/43, done at 2023-05-07 03:07:26, 0:00:00
2023-05-07 03:07:26,662 INFO     pid:25092 util.util:236:enumerateWithEstimate E8 Validation    16/43, done at 2023-05-07 03:07:26, 0:00:00
2023-05-07 03:07:26,828 INFO     pid:25092 util.util:236:enumerateWithEstimate E8 Validation    32/43, done at 2023-05-07 03:07:26, 0:00:00
2023-05-07 03:07:27,398 WARNING  pid:25092 util.util:249:enumerateWithEstimate E8 Validation  ----/43, done at 2023-05-07 03:07:27
2023-05-07 03:07:27,399 INFO     pid:25092 training:253:logMetrics E8 LunaTrainingApp
2023-05-07 03:07:27,400 INFO     pid:25092 training:283:logMetrics E8 val      0.0158 loss,  99.8% correct, 
2023-05-07 03:07:27,401 INFO     pid:25092 training:292:logMetrics E8 val_neg  0.0026 loss, 100.0% correct (1354 of 1354)
2023-05-07 03:07:27,402 INFO     pid:25092 training:303:logMetrics E8 val_pos  5.9613 loss,   0.0% correct (0 of 3)
2023-05-07 03:07:27,405 INFO     pid:25092 training:144:main Epoch 9 of 20, 382/43 batches of size 32*1
2023-05-07 03:07:27,406 WARNING  pid:25092 util.util:219:enumerateWithEstimate E9 Training ----/382, starting
2023-05-07 03:07:35,749 INFO     pid:25092 util.util:236:enumerateWithEstimate E9 Training   16/382, done at 2023-05-07 03:07:50, 0:00:15
2023-05-07 03:07:37,056 INFO     pid:25092 util.util:236:enumerateWithEstimate E9 Training   64/382, done at 2023-05-07 03:07:46, 0:00:11
2023-05-07 03:07:42,204 INFO     pid:25092 util.util:236:enumerateWithEstimate E9 Training  256/382, done at 2023-05-07 03:07:45, 0:00:10
2023-05-07 03:07:46,116 WARNING  pid:25092 util.util:249:enumerateWithEstimate E9 Training ----/382, done at 2023-05-07 03:07:46
2023-05-07 03:07:46,117 INFO     pid:25092 training:253:logMetrics E9 LunaTrainingApp
2023-05-07 03:07:46,118 INFO     pid:25092 training:283:logMetrics E9 trn      0.0139 loss,  99.8% correct, 
2023-05-07 03:07:46,119 INFO     pid:25092 training:292:logMetrics E9 trn_neg  0.0020 loss, 100.0% correct (12184 of 12184)
2023-05-07 03:07:46,119 INFO     pid:25092 training:303:logMetrics E9 trn_pos  6.3505 loss,   0.0% correct (0 of 23)
2023-05-07 03:07:46,124 WARNING  pid:25092 util.util:219:enumerateWithEstimate E9 Validation  ----/43, starting
2023-05-07 03:07:53,843 INFO     pid:25092 util.util:236:enumerateWithEstimate E9 Validation     8/43, done at 2023-05-07 03:07:54, 0:00:00
2023-05-07 03:07:53,949 INFO     pid:25092 util.util:236:enumerateWithEstimate E9 Validation    16/43, done at 2023-05-07 03:07:54, 0:00:00
2023-05-07 03:07:54,207 INFO     pid:25092 util.util:236:enumerateWithEstimate E9 Validation    32/43, done at 2023-05-07 03:07:54, 0:00:00
2023-05-07 03:07:54,868 WARNING  pid:25092 util.util:249:enumerateWithEstimate E9 Validation  ----/43, done at 2023-05-07 03:07:54
2023-05-07 03:07:54,869 INFO     pid:25092 training:253:logMetrics E9 LunaTrainingApp
2023-05-07 03:07:54,870 INFO     pid:25092 training:283:logMetrics E9 val      0.0158 loss,  99.8% correct, 
2023-05-07 03:07:54,870 INFO     pid:25092 training:292:logMetrics E9 val_neg  0.0026 loss, 100.0% correct (1354 of 1354)
2023-05-07 03:07:54,871 INFO     pid:25092 training:303:logMetrics E9 val_pos  5.9623 loss,   0.0% correct (0 of 3)
2023-05-07 03:07:54,873 INFO     pid:25092 training:144:main Epoch 10 of 20, 382/43 batches of size 32*1
2023-05-07 03:07:54,874 WARNING  pid:25092 util.util:219:enumerateWithEstimate E10 Training ----/382, starting
2023-05-07 03:08:03,373 INFO     pid:25092 util.util:236:enumerateWithEstimate E10 Training   16/382, done at 2023-05-07 03:08:16, 0:00:13
2023-05-07 03:08:04,673 INFO     pid:25092 util.util:236:enumerateWithEstimate E10 Training   64/382, done at 2023-05-07 03:08:13, 0:00:10
2023-05-07 03:08:09,949 INFO     pid:25092 util.util:236:enumerateWithEstimate E10 Training  256/382, done at 2023-05-07 03:08:13, 0:00:10
2023-05-07 03:08:13,887 WARNING  pid:25092 util.util:249:enumerateWithEstimate E10 Training ----/382, done at 2023-05-07 03:08:13
2023-05-07 03:08:13,889 INFO     pid:25092 training:253:logMetrics E10 LunaTrainingApp
2023-05-07 03:08:13,890 INFO     pid:25092 training:283:logMetrics E10 trn      0.0139 loss,  99.8% correct, 
2023-05-07 03:08:13,891 INFO     pid:25092 training:292:logMetrics E10 trn_neg  0.0020 loss, 100.0% correct (12184 of 12184)
2023-05-07 03:08:13,891 INFO     pid:25092 training:303:logMetrics E10 trn_pos  6.3456 loss,   0.0% correct (0 of 23)
2023-05-07 03:08:13,896 WARNING  pid:25092 util.util:219:enumerateWithEstimate E10 Validation  ----/43, starting
2023-05-07 03:08:21,737 INFO     pid:25092 util.util:236:enumerateWithEstimate E10 Validation     8/43, done at 2023-05-07 03:08:21, 0:00:00
2023-05-07 03:08:21,858 INFO     pid:25092 util.util:236:enumerateWithEstimate E10 Validation    16/43, done at 2023-05-07 03:08:22, 0:00:00
2023-05-07 03:08:21,985 INFO     pid:25092 util.util:236:enumerateWithEstimate E10 Validation    32/43, done at 2023-05-07 03:08:22, 0:00:00
2023-05-07 03:08:22,565 WARNING  pid:25092 util.util:249:enumerateWithEstimate E10 Validation  ----/43, done at 2023-05-07 03:08:22
2023-05-07 03:08:22,566 INFO     pid:25092 training:253:logMetrics E10 LunaTrainingApp
2023-05-07 03:08:22,567 INFO     pid:25092 training:283:logMetrics E10 val      0.0158 loss,  99.8% correct, 
2023-05-07 03:08:22,568 INFO     pid:25092 training:292:logMetrics E10 val_neg  0.0026 loss, 100.0% correct (1354 of 1354)
2023-05-07 03:08:22,568 INFO     pid:25092 training:303:logMetrics E10 val_pos  5.9393 loss,   0.0% correct (0 of 3)
2023-05-07 03:08:22,571 INFO     pid:25092 training:144:main Epoch 11 of 20, 382/43 batches of size 32*1
2023-05-07 03:08:22,572 WARNING  pid:25092 util.util:219:enumerateWithEstimate E11 Training ----/382, starting
2023-05-07 03:08:30,946 INFO     pid:25092 util.util:236:enumerateWithEstimate E11 Training   16/382, done at 2023-05-07 03:08:46, 0:00:15
2023-05-07 03:08:32,218 INFO     pid:25092 util.util:236:enumerateWithEstimate E11 Training   64/382, done at 2023-05-07 03:08:41, 0:00:11
2023-05-07 03:08:37,357 INFO     pid:25092 util.util:236:enumerateWithEstimate E11 Training  256/382, done at 2023-05-07 03:08:40, 0:00:10
2023-05-07 03:08:41,278 WARNING  pid:25092 util.util:249:enumerateWithEstimate E11 Training ----/382, done at 2023-05-07 03:08:41
2023-05-07 03:08:41,279 INFO     pid:25092 training:253:logMetrics E11 LunaTrainingApp
2023-05-07 03:08:41,280 INFO     pid:25092 training:283:logMetrics E11 trn      0.0139 loss,  99.8% correct, 
2023-05-07 03:08:41,281 INFO     pid:25092 training:292:logMetrics E11 trn_neg  0.0020 loss, 100.0% correct (12184 of 12184)
2023-05-07 03:08:41,282 INFO     pid:25092 training:303:logMetrics E11 trn_pos  6.3419 loss,   0.0% correct (0 of 23)
2023-05-07 03:08:41,285 WARNING  pid:25092 util.util:219:enumerateWithEstimate E11 Validation  ----/43, starting
2023-05-07 03:08:49,001 INFO     pid:25092 util.util:236:enumerateWithEstimate E11 Validation     8/43, done at 2023-05-07 03:08:49, 0:00:00
2023-05-07 03:08:49,101 INFO     pid:25092 util.util:236:enumerateWithEstimate E11 Validation    16/43, done at 2023-05-07 03:08:49, 0:00:00
2023-05-07 03:08:49,365 INFO     pid:25092 util.util:236:enumerateWithEstimate E11 Validation    32/43, done at 2023-05-07 03:08:49, 0:00:00
2023-05-07 03:08:50,006 WARNING  pid:25092 util.util:249:enumerateWithEstimate E11 Validation  ----/43, done at 2023-05-07 03:08:50
2023-05-07 03:08:50,007 INFO     pid:25092 training:253:logMetrics E11 LunaTrainingApp
2023-05-07 03:08:50,008 INFO     pid:25092 training:283:logMetrics E11 val      0.0158 loss,  99.8% correct, 
2023-05-07 03:08:50,009 INFO     pid:25092 training:292:logMetrics E11 val_neg  0.0027 loss, 100.0% correct (1354 of 1354)
2023-05-07 03:08:50,010 INFO     pid:25092 training:303:logMetrics E11 val_pos  5.9090 loss,   0.0% correct (0 of 3)
2023-05-07 03:08:50,012 INFO     pid:25092 training:144:main Epoch 12 of 20, 382/43 batches of size 32*1
2023-05-07 03:08:50,014 WARNING  pid:25092 util.util:219:enumerateWithEstimate E12 Training ----/382, starting
2023-05-07 03:08:58,298 INFO     pid:25092 util.util:236:enumerateWithEstimate E12 Training   16/382, done at 2023-05-07 03:09:13, 0:00:15
2023-05-07 03:08:59,601 INFO     pid:25092 util.util:236:enumerateWithEstimate E12 Training   64/382, done at 2023-05-07 03:09:09, 0:00:11
2023-05-07 03:09:04,768 INFO     pid:25092 util.util:236:enumerateWithEstimate E12 Training  256/382, done at 2023-05-07 03:09:08, 0:00:10
2023-05-07 03:09:08,697 WARNING  pid:25092 util.util:249:enumerateWithEstimate E12 Training ----/382, done at 2023-05-07 03:09:08
2023-05-07 03:09:08,698 INFO     pid:25092 training:253:logMetrics E12 LunaTrainingApp
2023-05-07 03:09:08,699 INFO     pid:25092 training:283:logMetrics E12 trn      0.0139 loss,  99.8% correct, 
2023-05-07 03:09:08,700 INFO     pid:25092 training:292:logMetrics E12 trn_neg  0.0020 loss, 100.0% correct (12184 of 12184)
2023-05-07 03:09:08,700 INFO     pid:25092 training:303:logMetrics E12 trn_pos  6.3351 loss,   0.0% correct (0 of 23)
2023-05-07 03:09:08,704 WARNING  pid:25092 util.util:219:enumerateWithEstimate E12 Validation  ----/43, starting
2023-05-07 03:09:17,166 INFO     pid:25092 util.util:236:enumerateWithEstimate E12 Validation     8/43, done at 2023-05-07 03:09:17, 0:00:00
2023-05-07 03:09:17,258 INFO     pid:25092 util.util:236:enumerateWithEstimate E12 Validation    16/43, done at 2023-05-07 03:09:17, 0:00:00
2023-05-07 03:09:17,410 INFO     pid:25092 util.util:236:enumerateWithEstimate E12 Validation    32/43, done at 2023-05-07 03:09:17, 0:00:00
2023-05-07 03:09:17,980 WARNING  pid:25092 util.util:249:enumerateWithEstimate E12 Validation  ----/43, done at 2023-05-07 03:09:17
2023-05-07 03:09:17,981 INFO     pid:25092 training:253:logMetrics E12 LunaTrainingApp
2023-05-07 03:09:17,983 INFO     pid:25092 training:283:logMetrics E12 val      0.0158 loss,  99.8% correct, 
2023-05-07 03:09:17,984 INFO     pid:25092 training:292:logMetrics E12 val_neg  0.0027 loss, 100.0% correct (1354 of 1354)
2023-05-07 03:09:17,985 INFO     pid:25092 training:303:logMetrics E12 val_pos  5.8983 loss,   0.0% correct (0 of 3)
2023-05-07 03:09:17,987 INFO     pid:25092 training:144:main Epoch 13 of 20, 382/43 batches of size 32*1
2023-05-07 03:09:17,988 WARNING  pid:25092 util.util:219:enumerateWithEstimate E13 Training ----/382, starting
2023-05-07 03:09:26,113 INFO     pid:25092 util.util:236:enumerateWithEstimate E13 Training   16/382, done at 2023-05-07 03:09:38, 0:00:13
2023-05-07 03:09:27,250 INFO     pid:25092 util.util:236:enumerateWithEstimate E13 Training   64/382, done at 2023-05-07 03:09:35, 0:00:09
2023-05-07 03:09:32,231 INFO     pid:25092 util.util:236:enumerateWithEstimate E13 Training  256/382, done at 2023-05-07 03:09:35, 0:00:09
2023-05-07 03:09:36,368 WARNING  pid:25092 util.util:249:enumerateWithEstimate E13 Training ----/382, done at 2023-05-07 03:09:36
2023-05-07 03:09:36,369 INFO     pid:25092 training:253:logMetrics E13 LunaTrainingApp
2023-05-07 03:09:36,371 INFO     pid:25092 training:283:logMetrics E13 trn      0.0139 loss,  99.8% correct, 
2023-05-07 03:09:36,372 INFO     pid:25092 training:292:logMetrics E13 trn_neg  0.0020 loss, 100.0% correct (12184 of 12184)
2023-05-07 03:09:36,372 INFO     pid:25092 training:303:logMetrics E13 trn_pos  6.3337 loss,   0.0% correct (0 of 23)
2023-05-07 03:09:36,378 WARNING  pid:25092 util.util:219:enumerateWithEstimate E13 Validation  ----/43, starting
2023-05-07 03:09:44,660 INFO     pid:25092 util.util:236:enumerateWithEstimate E13 Validation     8/43, done at 2023-05-07 03:09:44, 0:00:00
2023-05-07 03:09:44,755 INFO     pid:25092 util.util:236:enumerateWithEstimate E13 Validation    16/43, done at 2023-05-07 03:09:45, 0:00:00
2023-05-07 03:09:44,928 INFO     pid:25092 util.util:236:enumerateWithEstimate E13 Validation    32/43, done at 2023-05-07 03:09:45, 0:00:00
2023-05-07 03:09:45,521 WARNING  pid:25092 util.util:249:enumerateWithEstimate E13 Validation  ----/43, done at 2023-05-07 03:09:45
2023-05-07 03:09:45,522 INFO     pid:25092 training:253:logMetrics E13 LunaTrainingApp
2023-05-07 03:09:45,523 INFO     pid:25092 training:283:logMetrics E13 val      0.0158 loss,  99.8% correct, 
2023-05-07 03:09:45,523 INFO     pid:25092 training:292:logMetrics E13 val_neg  0.0028 loss, 100.0% correct (1354 of 1354)
2023-05-07 03:09:45,524 INFO     pid:25092 training:303:logMetrics E13 val_pos  5.8817 loss,   0.0% correct (0 of 3)
2023-05-07 03:09:45,526 INFO     pid:25092 training:144:main Epoch 14 of 20, 382/43 batches of size 32*1
2023-05-07 03:09:45,527 WARNING  pid:25092 util.util:219:enumerateWithEstimate E14 Training ----/382, starting
2023-05-07 03:09:54,121 INFO     pid:25092 util.util:236:enumerateWithEstimate E14 Training   16/382, done at 2023-05-07 03:10:07, 0:00:13
2023-05-07 03:09:55,418 INFO     pid:25092 util.util:236:enumerateWithEstimate E14 Training   64/382, done at 2023-05-07 03:10:04, 0:00:10
2023-05-07 03:10:00,568 INFO     pid:25092 util.util:236:enumerateWithEstimate E14 Training  256/382, done at 2023-05-07 03:10:03, 0:00:10
2023-05-07 03:10:04,524 WARNING  pid:25092 util.util:249:enumerateWithEstimate E14 Training ----/382, done at 2023-05-07 03:10:04
2023-05-07 03:10:04,525 INFO     pid:25092 training:253:logMetrics E14 LunaTrainingApp
2023-05-07 03:10:04,526 INFO     pid:25092 training:283:logMetrics E14 trn      0.0139 loss,  99.8% correct, 
2023-05-07 03:10:04,527 INFO     pid:25092 training:292:logMetrics E14 trn_neg  0.0020 loss, 100.0% correct (12184 of 12184)
2023-05-07 03:10:04,527 INFO     pid:25092 training:303:logMetrics E14 trn_pos  6.3340 loss,   0.0% correct (0 of 23)
2023-05-07 03:10:04,532 WARNING  pid:25092 util.util:219:enumerateWithEstimate E14 Validation  ----/43, starting
2023-05-07 03:10:12,297 INFO     pid:25092 util.util:236:enumerateWithEstimate E14 Validation     8/43, done at 2023-05-07 03:10:12, 0:00:00
2023-05-07 03:10:12,400 INFO     pid:25092 util.util:236:enumerateWithEstimate E14 Validation    16/43, done at 2023-05-07 03:10:12, 0:00:00
2023-05-07 03:10:12,543 INFO     pid:25092 util.util:236:enumerateWithEstimate E14 Validation    32/43, done at 2023-05-07 03:10:12, 0:00:00
2023-05-07 03:10:13,247 WARNING  pid:25092 util.util:249:enumerateWithEstimate E14 Validation  ----/43, done at 2023-05-07 03:10:13
2023-05-07 03:10:13,248 INFO     pid:25092 training:253:logMetrics E14 LunaTrainingApp
2023-05-07 03:10:13,248 INFO     pid:25092 training:283:logMetrics E14 val      0.0158 loss,  99.8% correct, 
2023-05-07 03:10:13,249 INFO     pid:25092 training:292:logMetrics E14 val_neg  0.0029 loss, 100.0% correct (1354 of 1354)
2023-05-07 03:10:13,249 INFO     pid:25092 training:303:logMetrics E14 val_pos  5.8599 loss,   0.0% correct (0 of 3)
2023-05-07 03:10:13,253 INFO     pid:25092 training:144:main Epoch 15 of 20, 382/43 batches of size 32*1
2023-05-07 03:10:13,255 WARNING  pid:25092 util.util:219:enumerateWithEstimate E15 Training ----/382, starting
2023-05-07 03:10:21,697 INFO     pid:25092 util.util:236:enumerateWithEstimate E15 Training   16/382, done at 2023-05-07 03:10:34, 0:00:13
2023-05-07 03:10:22,996 INFO     pid:25092 util.util:236:enumerateWithEstimate E15 Training   64/382, done at 2023-05-07 03:10:32, 0:00:10
2023-05-07 03:10:28,130 INFO     pid:25092 util.util:236:enumerateWithEstimate E15 Training  256/382, done at 2023-05-07 03:10:31, 0:00:10
2023-05-07 03:10:32,021 WARNING  pid:25092 util.util:249:enumerateWithEstimate E15 Training ----/382, done at 2023-05-07 03:10:32
2023-05-07 03:10:32,022 INFO     pid:25092 training:253:logMetrics E15 LunaTrainingApp
2023-05-07 03:10:32,023 INFO     pid:25092 training:283:logMetrics E15 trn      0.0139 loss,  99.8% correct, 
2023-05-07 03:10:32,024 INFO     pid:25092 training:292:logMetrics E15 trn_neg  0.0020 loss, 100.0% correct (12184 of 12184)
2023-05-07 03:10:32,024 INFO     pid:25092 training:303:logMetrics E15 trn_pos  6.3311 loss,   0.0% correct (0 of 23)
2023-05-07 03:10:32,026 WARNING  pid:25092 util.util:219:enumerateWithEstimate E15 Validation  ----/43, starting
2023-05-07 03:10:39,765 INFO     pid:25092 util.util:236:enumerateWithEstimate E15 Validation     8/43, done at 2023-05-07 03:10:39, 0:00:00
2023-05-07 03:10:39,869 INFO     pid:25092 util.util:236:enumerateWithEstimate E15 Validation    16/43, done at 2023-05-07 03:10:40, 0:00:00
2023-05-07 03:10:40,127 INFO     pid:25092 util.util:236:enumerateWithEstimate E15 Validation    32/43, done at 2023-05-07 03:10:40, 0:00:00
2023-05-07 03:10:40,767 WARNING  pid:25092 util.util:249:enumerateWithEstimate E15 Validation  ----/43, done at 2023-05-07 03:10:40
2023-05-07 03:10:40,768 INFO     pid:25092 training:253:logMetrics E15 LunaTrainingApp
2023-05-07 03:10:40,769 INFO     pid:25092 training:283:logMetrics E15 val      0.0158 loss,  99.8% correct, 
2023-05-07 03:10:40,769 INFO     pid:25092 training:292:logMetrics E15 val_neg  0.0028 loss, 100.0% correct (1354 of 1354)
2023-05-07 03:10:40,770 INFO     pid:25092 training:303:logMetrics E15 val_pos  5.8795 loss,   0.0% correct (0 of 3)
2023-05-07 03:10:40,772 INFO     pid:25092 training:144:main Epoch 16 of 20, 382/43 batches of size 32*1
2023-05-07 03:10:40,774 WARNING  pid:25092 util.util:219:enumerateWithEstimate E16 Training ----/382, starting
2023-05-07 03:10:49,067 INFO     pid:25092 util.util:236:enumerateWithEstimate E16 Training   16/382, done at 2023-05-07 03:11:05, 0:00:17
2023-05-07 03:10:50,366 INFO     pid:25092 util.util:236:enumerateWithEstimate E16 Training   64/382, done at 2023-05-07 03:11:00, 0:00:11
2023-05-07 03:10:55,526 INFO     pid:25092 util.util:236:enumerateWithEstimate E16 Training  256/382, done at 2023-05-07 03:10:59, 0:00:10
2023-05-07 03:10:59,475 WARNING  pid:25092 util.util:249:enumerateWithEstimate E16 Training ----/382, done at 2023-05-07 03:10:59
2023-05-07 03:10:59,477 INFO     pid:25092 training:253:logMetrics E16 LunaTrainingApp
2023-05-07 03:10:59,478 INFO     pid:25092 training:283:logMetrics E16 trn      0.0139 loss,  99.8% correct, 
2023-05-07 03:10:59,479 INFO     pid:25092 training:292:logMetrics E16 trn_neg  0.0020 loss, 100.0% correct (12184 of 12184)
2023-05-07 03:10:59,479 INFO     pid:25092 training:303:logMetrics E16 trn_pos  6.3479 loss,   0.0% correct (0 of 23)
2023-05-07 03:10:59,483 WARNING  pid:25092 util.util:219:enumerateWithEstimate E16 Validation  ----/43, starting
2023-05-07 03:11:07,247 INFO     pid:25092 util.util:236:enumerateWithEstimate E16 Validation     8/43, done at 2023-05-07 03:11:07, 0:00:00
2023-05-07 03:11:07,365 INFO     pid:25092 util.util:236:enumerateWithEstimate E16 Validation    16/43, done at 2023-05-07 03:11:07, 0:00:00
2023-05-07 03:11:07,512 INFO     pid:25092 util.util:236:enumerateWithEstimate E16 Validation    32/43, done at 2023-05-07 03:11:07, 0:00:00
2023-05-07 03:11:08,300 WARNING  pid:25092 util.util:249:enumerateWithEstimate E16 Validation  ----/43, done at 2023-05-07 03:11:08
2023-05-07 03:11:08,301 INFO     pid:25092 training:253:logMetrics E16 LunaTrainingApp
2023-05-07 03:11:08,302 INFO     pid:25092 training:283:logMetrics E16 val      0.0157 loss,  99.8% correct, 
2023-05-07 03:11:08,302 INFO     pid:25092 training:292:logMetrics E16 val_neg  0.0025 loss, 100.0% correct (1354 of 1354)
2023-05-07 03:11:08,302 INFO     pid:25092 training:303:logMetrics E16 val_pos  5.9738 loss,   0.0% correct (0 of 3)
2023-05-07 03:11:08,306 INFO     pid:25092 training:144:main Epoch 17 of 20, 382/43 batches of size 32*1
2023-05-07 03:11:08,307 WARNING  pid:25092 util.util:219:enumerateWithEstimate E17 Training ----/382, starting
2023-05-07 03:11:16,865 INFO     pid:25092 util.util:236:enumerateWithEstimate E17 Training   16/382, done at 2023-05-07 03:11:32, 0:00:16
2023-05-07 03:11:18,168 INFO     pid:25092 util.util:236:enumerateWithEstimate E17 Training   64/382, done at 2023-05-07 03:11:27, 0:00:11
2023-05-07 03:11:23,275 INFO     pid:25092 util.util:236:enumerateWithEstimate E17 Training  256/382, done at 2023-05-07 03:11:26, 0:00:10
2023-05-07 03:11:27,207 WARNING  pid:25092 util.util:249:enumerateWithEstimate E17 Training ----/382, done at 2023-05-07 03:11:27
2023-05-07 03:11:27,208 INFO     pid:25092 training:253:logMetrics E17 LunaTrainingApp
2023-05-07 03:11:27,209 INFO     pid:25092 training:283:logMetrics E17 trn      0.0139 loss,  99.8% correct, 
2023-05-07 03:11:27,209 INFO     pid:25092 training:292:logMetrics E17 trn_neg  0.0020 loss, 100.0% correct (12184 of 12184)
2023-05-07 03:11:27,210 INFO     pid:25092 training:303:logMetrics E17 trn_pos  6.3235 loss,   0.0% correct (0 of 23)
2023-05-07 03:11:27,213 WARNING  pid:25092 util.util:219:enumerateWithEstimate E17 Validation  ----/43, starting
2023-05-07 03:11:35,080 INFO     pid:25092 util.util:236:enumerateWithEstimate E17 Validation     8/43, done at 2023-05-07 03:11:35, 0:00:00
2023-05-07 03:11:35,179 INFO     pid:25092 util.util:236:enumerateWithEstimate E17 Validation    16/43, done at 2023-05-07 03:11:35, 0:00:00
2023-05-07 03:11:35,319 INFO     pid:25092 util.util:236:enumerateWithEstimate E17 Validation    32/43, done at 2023-05-07 03:11:35, 0:00:00
2023-05-07 03:11:35,889 WARNING  pid:25092 util.util:249:enumerateWithEstimate E17 Validation  ----/43, done at 2023-05-07 03:11:35
2023-05-07 03:11:35,890 INFO     pid:25092 training:253:logMetrics E17 LunaTrainingApp
2023-05-07 03:11:35,892 INFO     pid:25092 training:283:logMetrics E17 val      0.0158 loss,  99.8% correct, 
2023-05-07 03:11:35,892 INFO     pid:25092 training:292:logMetrics E17 val_neg  0.0029 loss, 100.0% correct (1354 of 1354)
2023-05-07 03:11:35,893 INFO     pid:25092 training:303:logMetrics E17 val_pos  5.8321 loss,   0.0% correct (0 of 3)
2023-05-07 03:11:35,896 INFO     pid:25092 training:144:main Epoch 18 of 20, 382/43 batches of size 32*1
2023-05-07 03:11:35,898 WARNING  pid:25092 util.util:219:enumerateWithEstimate E18 Training ----/382, starting
2023-05-07 03:11:44,849 INFO     pid:25092 util.util:236:enumerateWithEstimate E18 Training   16/382, done at 2023-05-07 03:12:00, 0:00:15
2023-05-07 03:11:46,145 INFO     pid:25092 util.util:236:enumerateWithEstimate E18 Training   64/382, done at 2023-05-07 03:11:55, 0:00:11
2023-05-07 03:11:51,367 INFO     pid:25092 util.util:236:enumerateWithEstimate E18 Training  256/382, done at 2023-05-07 03:11:54, 0:00:10
2023-05-07 03:11:55,322 WARNING  pid:25092 util.util:249:enumerateWithEstimate E18 Training ----/382, done at 2023-05-07 03:11:55
2023-05-07 03:11:55,323 INFO     pid:25092 training:253:logMetrics E18 LunaTrainingApp
2023-05-07 03:11:55,324 INFO     pid:25092 training:283:logMetrics E18 trn      0.0139 loss,  99.8% correct, 
2023-05-07 03:11:55,324 INFO     pid:25092 training:292:logMetrics E18 trn_neg  0.0020 loss, 100.0% correct (12184 of 12184)
2023-05-07 03:11:55,324 INFO     pid:25092 training:303:logMetrics E18 trn_pos  6.3227 loss,   0.0% correct (0 of 23)
2023-05-07 03:11:55,327 WARNING  pid:25092 util.util:219:enumerateWithEstimate E18 Validation  ----/43, starting
2023-05-07 03:12:03,351 INFO     pid:25092 util.util:236:enumerateWithEstimate E18 Validation     8/43, done at 2023-05-07 03:12:03, 0:00:00
2023-05-07 03:12:03,428 INFO     pid:25092 util.util:236:enumerateWithEstimate E18 Validation    16/43, done at 2023-05-07 03:12:03, 0:00:00
2023-05-07 03:12:03,658 INFO     pid:25092 util.util:236:enumerateWithEstimate E18 Validation    32/43, done at 2023-05-07 03:12:03, 0:00:00
2023-05-07 03:12:04,277 WARNING  pid:25092 util.util:249:enumerateWithEstimate E18 Validation  ----/43, done at 2023-05-07 03:12:04
2023-05-07 03:12:04,279 INFO     pid:25092 training:253:logMetrics E18 LunaTrainingApp
2023-05-07 03:12:04,280 INFO     pid:25092 training:283:logMetrics E18 val      0.0158 loss,  99.8% correct, 
2023-05-07 03:12:04,281 INFO     pid:25092 training:292:logMetrics E18 val_neg  0.0029 loss, 100.0% correct (1354 of 1354)
2023-05-07 03:12:04,282 INFO     pid:25092 training:303:logMetrics E18 val_pos  5.8288 loss,   0.0% correct (0 of 3)
2023-05-07 03:12:04,285 INFO     pid:25092 training:144:main Epoch 19 of 20, 382/43 batches of size 32*1
2023-05-07 03:12:04,287 WARNING  pid:25092 util.util:219:enumerateWithEstimate E19 Training ----/382, starting
2023-05-07 03:12:12,868 INFO     pid:25092 util.util:236:enumerateWithEstimate E19 Training   16/382, done at 2023-05-07 03:12:24, 0:00:11
2023-05-07 03:12:14,183 INFO     pid:25092 util.util:236:enumerateWithEstimate E19 Training   64/382, done at 2023-05-07 03:12:23, 0:00:10
2023-05-07 03:12:19,309 INFO     pid:25092 util.util:236:enumerateWithEstimate E19 Training  256/382, done at 2023-05-07 03:12:22, 0:00:10
2023-05-07 03:12:23,369 WARNING  pid:25092 util.util:249:enumerateWithEstimate E19 Training ----/382, done at 2023-05-07 03:12:23
2023-05-07 03:12:23,371 INFO     pid:25092 training:253:logMetrics E19 LunaTrainingApp
2023-05-07 03:12:23,372 INFO     pid:25092 training:283:logMetrics E19 trn      0.0139 loss,  99.8% correct, 
2023-05-07 03:12:23,373 INFO     pid:25092 training:292:logMetrics E19 trn_neg  0.0020 loss, 100.0% correct (12184 of 12184)
2023-05-07 03:12:23,374 INFO     pid:25092 training:303:logMetrics E19 trn_pos  6.3179 loss,   0.0% correct (0 of 23)
2023-05-07 03:12:23,377 WARNING  pid:25092 util.util:219:enumerateWithEstimate E19 Validation  ----/43, starting
2023-05-07 03:12:31,445 INFO     pid:25092 util.util:236:enumerateWithEstimate E19 Validation     8/43, done at 2023-05-07 03:12:31, 0:00:00
2023-05-07 03:12:31,577 INFO     pid:25092 util.util:236:enumerateWithEstimate E19 Validation    16/43, done at 2023-05-07 03:12:31, 0:00:00
2023-05-07 03:12:31,740 INFO     pid:25092 util.util:236:enumerateWithEstimate E19 Validation    32/43, done at 2023-05-07 03:12:31, 0:00:00
2023-05-07 03:12:32,314 WARNING  pid:25092 util.util:249:enumerateWithEstimate E19 Validation  ----/43, done at 2023-05-07 03:12:32
2023-05-07 03:12:32,315 INFO     pid:25092 training:253:logMetrics E19 LunaTrainingApp
2023-05-07 03:12:32,316 INFO     pid:25092 training:283:logMetrics E19 val      0.0158 loss,  99.8% correct, 
2023-05-07 03:12:32,316 INFO     pid:25092 training:292:logMetrics E19 val_neg  0.0029 loss, 100.0% correct (1354 of 1354)
2023-05-07 03:12:32,316 INFO     pid:25092 training:303:logMetrics E19 val_pos  5.8359 loss,   0.0% correct (0 of 3)
2023-05-07 03:12:32,319 INFO     pid:25092 training:144:main Epoch 20 of 20, 382/43 batches of size 32*1
2023-05-07 03:12:32,320 WARNING  pid:25092 util.util:219:enumerateWithEstimate E20 Training ----/382, starting
2023-05-07 03:12:41,064 INFO     pid:25092 util.util:236:enumerateWithEstimate E20 Training   16/382, done at 2023-05-07 03:12:55, 0:00:14
2023-05-07 03:12:42,364 INFO     pid:25092 util.util:236:enumerateWithEstimate E20 Training   64/382, done at 2023-05-07 03:12:51, 0:00:11
2023-05-07 03:12:47,676 INFO     pid:25092 util.util:236:enumerateWithEstimate E20 Training  256/382, done at 2023-05-07 03:12:51, 0:00:10
2023-05-07 03:12:51,658 WARNING  pid:25092 util.util:249:enumerateWithEstimate E20 Training ----/382, done at 2023-05-07 03:12:51
2023-05-07 03:12:51,659 INFO     pid:25092 training:253:logMetrics E20 LunaTrainingApp
2023-05-07 03:12:51,660 INFO     pid:25092 training:283:logMetrics E20 trn      0.0139 loss,  99.8% correct, 
2023-05-07 03:12:51,660 INFO     pid:25092 training:292:logMetrics E20 trn_neg  0.0020 loss, 100.0% correct (12184 of 12184)
2023-05-07 03:12:51,661 INFO     pid:25092 training:303:logMetrics E20 trn_pos  6.3147 loss,   0.0% correct (0 of 23)
2023-05-07 03:12:51,664 WARNING  pid:25092 util.util:219:enumerateWithEstimate E20 Validation  ----/43, starting
2023-05-07 03:12:59,715 INFO     pid:25092 util.util:236:enumerateWithEstimate E20 Validation     8/43, done at 2023-05-07 03:12:59, 0:00:00
2023-05-07 03:12:59,809 INFO     pid:25092 util.util:236:enumerateWithEstimate E20 Validation    16/43, done at 2023-05-07 03:13:00, 0:00:00
2023-05-07 03:13:00,104 INFO     pid:25092 util.util:236:enumerateWithEstimate E20 Validation    32/43, done at 2023-05-07 03:13:00, 0:00:00
2023-05-07 03:13:00,659 WARNING  pid:25092 util.util:249:enumerateWithEstimate E20 Validation  ----/43, done at 2023-05-07 03:13:00
2023-05-07 03:13:00,660 INFO     pid:25092 training:253:logMetrics E20 LunaTrainingApp
2023-05-07 03:13:00,661 INFO     pid:25092 training:283:logMetrics E20 val      0.0158 loss,  99.8% correct, 
2023-05-07 03:13:00,662 INFO     pid:25092 training:292:logMetrics E20 val_neg  0.0029 loss, 100.0% correct (1354 of 1354)
2023-05-07 03:13:00,663 INFO     pid:25092 training:303:logMetrics E20 val_pos  5.8353 loss,   0.0% correct (0 of 3)
2023-05-07 03:13:00,667 INFO     pid:25092 __main__:013:run Finished: training.LunaTrainingApp.['--num-workers=4', '--epochs=20']).main()
